{
 "cells": [
  {
   "cell_type": "markdown",
   "metadata": {},
   "source": [
    "'''Selenium Web scrapping'''"
   ]
  },
  {
   "cell_type": "code",
   "execution_count": 1,
   "metadata": {},
   "outputs": [],
   "source": [
    "import pandas as pd"
   ]
  },
  {
   "cell_type": "code",
   "execution_count": null,
   "metadata": {},
   "outputs": [],
   "source": [
    "from selenium import webdriver\n",
    "from selenium.webdriver.common.by import By\n",
    "from selenium.webdriver.common.action_chains import ActionChains\n",
    "from selenium.webdriver.support import expected_conditions as EC\n",
    "from selenium.webdriver.common import keys\n",
    "import time\n",
    "driver=webdriver.Chrome()\n",
    "f=[]\n",
    "h=['https://m.cricbuzz.com/cricket-series/7607/indian-premier-league-2024/matches','https://m.cricbuzz.com/cricket-series/5945/indian-premier-league-2023/matches','https://m.cricbuzz.com/cricket-series/4061/indian-premier-league-2022/matches',\"https://m.cricbuzz.com/cricket-series/3472/indian-premier-league-2021/matches\",'https://m.cricbuzz.com/cricket-series/3130/indian-premier-league-2020/matches','https://m.cricbuzz.com/cricket-series/2810/indian-premier-league-2019/matches','https://m.cricbuzz.com/cricket-series/2676/indian-premier-league-2018/matches','https://m.cricbuzz.com/cricket-series/2568/indian-premier-league-2017/matches','https://m.cricbuzz.com/cricket-series/2430/indian-premier-league-2016/matches','https://m.cricbuzz.com/cricket-series/2330/indian-premier-league-2015/matches','https://m.cricbuzz.com/cricket-series/2261/indian-premier-league-2014/matches','https://m.cricbuzz.com/cricket-series/2170/indian-premier-league-2013/matches','https://m.cricbuzz.com/cricket-series/2115/indian-premier-league-2012/matches','https://m.cricbuzz.com/cricket-series/2037/indian-premier-league-2011/matches','https://m.cricbuzz.com/cricket-series/2060/indian-premier-league-2010/matches','https://m.cricbuzz.com/cricket-series/2059/indian-premier-league-2009/matches','https://m.cricbuzz.com/cricket-series/2058/indian-premier-league-2008/matches']\n",
    "for j in h:\n",
    "    driver.get(j)\n",
    "    time.sleep(10)\n",
    "    try:\n",
    "        a=driver.find_elements(By.CSS_SELECTOR,'div[class=\"mt-2\"]')\n",
    "    except:\n",
    "        print('no found')\n",
    "    try:        \n",
    "\n",
    "        for i in a:\n",
    "\n",
    "            date=i.find_element(By.CSS_SELECTOR,\"div[class='mt-2']>a>div>span\").text\n",
    "            e= i.find_element(By.CSS_SELECTOR,\"div[class='flex flex-col gap-3 my-2  ']>div:nth-child(1)>div>span:nth-child(2)\").text\n",
    "            b=i.find_element(By.CSS_SELECTOR,\"div[class='flex flex-col gap-3 my-2  ']>div:nth-child(2)>div>span:nth-child(2)\").text\n",
    "            c=i.find_element(By.CSS_SELECTOR,\"div[class='flex justify-between items-center']>span\").text\n",
    "            d=i.find_element(By.CLASS_NAME,'text-cbComplete').text\n",
    "            h=i.find_element(By.CLASS_NAME,'font-medium').text\n",
    "            m=i.find_element(By.CSS_SELECTOR,'div[class=\"flex items-center gap-4 justify-between\"]:nth-child(2)>span').text\n",
    "            f.append({\n",
    "                'Date':date,\n",
    "                'Team A':e,\n",
    "                'Team B':b,\n",
    "                'Stadium':c,\n",
    "                \"1st team score\":h,\n",
    "                '2nd team score':m,\n",
    "                'margin':d\n",
    "\n",
    "            })\n",
    "            #driver.close()\n",
    "    except:\n",
    "        print('not found')  "
   ]
  },
  {
   "cell_type": "markdown",
   "metadata": {},
   "source": [
    "'''push the data to mysql Database'''"
   ]
  },
  {
   "cell_type": "code",
   "execution_count": null,
   "metadata": {},
   "outputs": [],
   "source": [
    "from sqlalchemy import create_engine\n",
    "host=\"localhost\"\n",
    "database=\"cricket\"\n",
    "username=\"root\"\n",
    "port=\"3306\"\n",
    "password=\"seenu2218\"\n",
    "\n",
    "engine=f\"mysql+pymysql://{username}:{password}@{host}:{port}/{database}\"\n",
    "engine=create_engine(engine)\n",
    "tablename='ipl1'\n",
    "f.to_sql(tablename,engine,if_exists='replace',index=False)\n"
   ]
  },
  {
   "cell_type": "code",
   "execution_count": null,
   "metadata": {},
   "outputs": [],
   "source": [
    "'''Taken the Data from Mysql DataBase'''"
   ]
  },
  {
   "cell_type": "code",
   "execution_count": null,
   "metadata": {},
   "outputs": [],
   "source": [
    "import mysql.connector\n",
    "import pandas as pd\n",
    "conn=mysql.connector.connect(\n",
    "    host='localhost',\n",
    "    username='root',\n",
    "    port='3306',\n",
    "    password='seenu2218',\n",
    "    database='Cricket'\n",
    "\n",
    ")\n",
    "cursor=conn.cursor()\n",
    "cursor.execute('select * from ipl1')\n",
    "b=cursor.fetchall()\n",
    "cursor.execute('select column_name from information_schema.columns where table_name=\"ipl1\" order by ordinal_position')\n",
    "column=cursor.fetchall()\n",
    "columna=[flat[0] for flat in column]\n",
    "Data=pd.DataFrame(b,columns=columna)"
   ]
  },
  {
   "cell_type": "code",
   "execution_count": null,
   "metadata": {},
   "outputs": [],
   "source": [
    "'''Cleaning the data''' "
   ]
  },
  {
   "cell_type": "code",
   "execution_count": null,
   "metadata": {},
   "outputs": [],
   "source": [
    "Data[['scoreA','wicketA']] = Data['1st team score'].str.split('-', expand=True).fillna('10')\n",
    "Data[['scoreB','wicketB']] = Data['2nd team score'].str.split('-', expand=True).fillna('10')\n",
    "Data['wicket A']=Data['wicketA'].str.replace(r'(\\d*).*',r'\\1',regex=True)\n",
    "Data['wicket B']=Data['wicketB'].str.replace(r'(\\d*).*',r'\\1',regex=True)\n",
    "Data['overs B'] = Data['wicketB'].str.replace(r'\\d+\\s*\\((\\d+\\.\\d+|\\d+)\\)', r'\\1', regex=True)\n",
    "\n",
    "Data['overs A'] = Data['wicketA'].str.replace(r'\\d+\\s*\\((\\d+\\.\\d+|\\d+)\\)', r'\\1', regex=True)\n",
    "Data = Data.drop(columns=['wicketA', 'wicketB'])\n",
    "Data['wicket A']=Data['wicket A'].astype('int64')\n",
    "Data['wicket B']=Data['wicket B'].astype('int64')\n",
    "Data['overs A'] =Data['overs A'] .astype('float64')\n",
    "Data['overs B'] =Data['overs B'] .astype('float64')\n"
   ]
  },
  {
   "cell_type": "code",
   "execution_count": null,
   "metadata": {},
   "outputs": [],
   "source": [
    "x=Data[Data['wicket A']==10]\n",
    "y=Data[Data['wicket B']==10]\n",
    "x[['scoreA','overs A']]=x['1st team score'].str.extract(r'(\\d+)\\s*\\((\\d+\\.\\d+|\\d+)')\n",
    "y[['scoreB','overs B']]=y['2nd team score'].str.extract(r'(\\d+)\\s*\\((\\d+\\.\\d+|\\d+)')\n",
    "Data=Data[(Data['wicket A']!=10)]\n",
    "Data=Data[(Data['wicket B']!=10)]\n",
    "Data1=pd.concat([Data,x,y])\n",
    "Data1=Data1.drop_duplicates()"
   ]
  },
  {
   "cell_type": "code",
   "execution_count": null,
   "metadata": {},
   "outputs": [],
   "source": [
    "Data1=Data1.reset_index()\n",
    "Data1 = Data1.drop_duplicates(subset='s.no')\n",
    "Data1=Data1.sort_values(by='s.no')\n",
    "Data1=Data1.set_index('s.no')\n",
    "z=Data1[Data1['overs B']==10]\n",
    "z[['scoreB','overs B']]=z['2nd team score'].str.extract(r'(\\d+)\\s*\\((\\d+\\.\\d+|\\d+)')\n",
    "Data1=Data1[Data1['overs B']!=10]"
   ]
  },
  {
   "cell_type": "code",
   "execution_count": null,
   "metadata": {},
   "outputs": [],
   "source": [
    "Data2=pd.concat([Data1,z])\n",
    "Data2=Data2.reset_index()\n",
    "Data2=Data2.sort_values(by='s.no')\n",
    "Data2=Data2.set_index('s.no')"
   ]
  },
  {
   "cell_type": "code",
   "execution_count": null,
   "metadata": {},
   "outputs": [],
   "source": [
    "Data2['scoreA'] = Data2['scoreA'].fillna(0).astype('int64')\n",
    "Data2['scoreB'] = Data2['scoreB'].fillna(0).astype('int64')\n",
    "Data2['wicket A'] = Data2['wicket A'].fillna(0).astype('int64')\n",
    "Data2['wicket B'] = Data2['wicket B'].fillna(0).astype('int64')\n",
    "Data2['overs A'] =Data2['overs A'].fillna(0).astype('float64')\n",
    "Data2['overs B'] =Data2['overs B'].fillna(0).astype('float64')"
   ]
  },
  {
   "cell_type": "code",
   "execution_count": null,
   "metadata": {},
   "outputs": [],
   "source": [
    "Data2['scoreA'] = Data2['scoreA'].astype(str)\n",
    "Data2['scoreB'] = Data2['scoreB'].astype(str)\n",
    "Data2['scoreA']=Data2['scoreA'].str.strip()\n",
    "Data2['scoreB']=Data2['scoreB'].str.strip()\n",
    "Data2['scoreA'] = Data2['scoreA'].astype('int64')\n",
    "Data2['scoreB'] = Data2['scoreB'].astype('int64')\n",
    "Data2['Team1'] = Data2.apply(lambda row: 'won' if row['scoreA'] > row['scoreB'] else 'lost', axis=1)\n",
    "Data2['Team2'] = Data2.apply(lambda row: 'won' if row['scoreA'] < row['scoreB'] else 'lost', axis=1)"
   ]
  },
  {
   "cell_type": "code",
   "execution_count": null,
   "metadata": {},
   "outputs": [],
   "source": [
    "'''resent the data'''"
   ]
  },
  {
   "cell_type": "code",
   "execution_count": null,
   "metadata": {},
   "outputs": [],
   "source": [
    "engine=f\"mysql+pymysql://{username}:{password}@{host}:{port}/{database}\"\n",
    "engine=create_engine(engine)\n",
    "tablename='ipl2'\n",
    "Data2.to_sql(tablename,engine,if_exists='replace',index=False)"
   ]
  }
 ],
 "metadata": {
  "kernelspec": {
   "display_name": "venv",
   "language": "python",
   "name": "python3"
  },
  "language_info": {
   "codemirror_mode": {
    "name": "ipython",
    "version": 3
   },
   "file_extension": ".py",
   "mimetype": "text/x-python",
   "name": "python",
   "nbconvert_exporter": "python",
   "pygments_lexer": "ipython3",
   "version": "3.12.3"
  }
 },
 "nbformat": 4,
 "nbformat_minor": 2
}
